{
 "cells": [
  {
   "cell_type": "markdown",
   "metadata": {},
   "source": [
    "# CS 2337.001 Midterm Review (Part 2) [Fall 2019]"
   ]
  },
  {
   "cell_type": "markdown",
   "metadata": {},
   "source": [
    "## Topics\n",
    "- [Characteristics of high-level languages](#hll)\n",
    "- [C++ Memory Model](#memory)\n",
    "- [UML Basics](#uml)\n",
    "- [Exceptions](#exceptions)\n",
    "- [Other things to look over](#other)"
   ]
  },
  {
   "cell_type": "code",
   "execution_count": 1,
   "metadata": {},
   "outputs": [],
   "source": [
    "#import <iostream>\n",
    "using namespace std;"
   ]
  },
  {
   "cell_type": "markdown",
   "metadata": {},
   "source": [
    "# Characteristics of High-Level Languages <a name=\"hll\"></a>"
   ]
  },
  {
   "cell_type": "markdown",
   "metadata": {},
   "source": [
    "objects are **class variables**\n",
    "\n",
    "characteristics of variables:\n",
    "- identifier (name)\n",
    "- type\n",
    "- location (where it's stored in the memory model)\n",
    "- scope (access - this is a compile-time issue)\n",
    "- lifetime (how long it exists while the program runs - this is a run-time issue)"
   ]
  },
  {
   "cell_type": "markdown",
   "metadata": {},
   "source": [
    "# C++ Memory Model <a name=\"memory\"></a>"
   ]
  },
  {
   "cell_type": "markdown",
   "metadata": {},
   "source": [
    "- **text area** - contains execution code\n",
    "- **basic static storage (BSS)** - exists for the entire life of the program, holds static variables\n",
    "    - gets zeroed out before the program runs, so static variables initialized to 0/default value\n",
    "- **program stack**\n",
    "    - global variables (get initialized to 0/default value)\n",
    "    - local variables\n",
    "- **heap** - dynamic storage\n",
    "    - when you create variables with `new`, this is where they go\n",
    "    \n",
    "C++ doesn't do automatic garbage collection for you, but you can use smart pointers."
   ]
  },
  {
   "cell_type": "markdown",
   "metadata": {},
   "source": [
    "# UML Basics <a name=\"uml\"></a>"
   ]
  },
  {
   "cell_type": "markdown",
   "metadata": {},
   "source": [
    "**Unified Modeling Language** helps visualize system design/class structure.\n",
    "\n",
    "(image examples from the textbook: *C++ Programming*, 8th edition by D.S. Malik)"
   ]
  },
  {
   "cell_type": "markdown",
   "metadata": {},
   "source": [
    "![UML example](uml1.png)"
   ]
  },
  {
   "cell_type": "markdown",
   "metadata": {},
   "source": [
    "- the top box is the class name\n",
    "- the middle box is the class's member variables\n",
    "- the last box is the class's member functions\n",
    "- symbols before members:\n",
    "    - `-` represents a **private** member\n",
    "    - `+` represents a **public** member\n",
    "    - `#` represents a **protected** member"
   ]
  },
  {
   "cell_type": "markdown",
   "metadata": {},
   "source": [
    "![UML example 2](uml2.png)"
   ]
  },
  {
   "cell_type": "markdown",
   "metadata": {},
   "source": [
    "**Inheritance** is represented by boxes with arrows. In this example, `boxType` is derived from the base class `rectangleType`"
   ]
  },
  {
   "cell_type": "markdown",
   "metadata": {},
   "source": [
    "![UML example 3](uml3.png)"
   ]
  },
  {
   "cell_type": "markdown",
   "metadata": {},
   "source": [
    "**Composition** is represented in a similar way. In this example, `studentType` inherits from `personType` and has an array with `courseType` objects. The **has-a** relationship is expressed with the diamond on the right."
   ]
  },
  {
   "cell_type": "markdown",
   "metadata": {},
   "source": [
    "![UML example 4](uml4.png)"
   ]
  },
  {
   "cell_type": "markdown",
   "metadata": {},
   "source": [
    "Here's an example of a template class in UML."
   ]
  },
  {
   "cell_type": "markdown",
   "metadata": {},
   "source": [
    "# Exceptions <a name=\"exceptions\"></a>"
   ]
  },
  {
   "cell_type": "markdown",
   "metadata": {},
   "source": [
    "Check out this article: http://www.cplusplus.com/doc/tutorial/exceptions/"
   ]
  },
  {
   "cell_type": "code",
   "execution_count": 3,
   "metadata": {},
   "outputs": [
    {
     "name": "stdout",
     "output_type": "stream",
     "text": [
      "Uh oh, we caught the exception 123\n"
     ]
    }
   ],
   "source": [
    "try {\n",
    "    // ...\n",
    "    // uh oh, something happened\n",
    "    throw(123);\n",
    "    // ...\n",
    "} catch (int e) {\n",
    "    cout << \"Uh oh, we caught the exception \" << e << endl;\n",
    "}"
   ]
  },
  {
   "cell_type": "markdown",
   "metadata": {},
   "source": [
    "You can chain multiple `catch` statements, it searches through the list top to bottom and runs the first match it finds, then stops."
   ]
  },
  {
   "cell_type": "code",
   "execution_count": 5,
   "metadata": {},
   "outputs": [
    {
     "name": "stdout",
     "output_type": "stream",
     "text": [
      "there was a char exception: a\n"
     ]
    }
   ],
   "source": [
    "try {\n",
    "    // ...\n",
    "    // something happened again!\n",
    "    throw('a');\n",
    "    // ...\n",
    "} catch (int e) {\n",
    "    cout << \"there was an integer exception: \" << e << endl;\n",
    "} catch (char e) {\n",
    "    cout << \"there was a char exception: \" << e << endl;\n",
    "}"
   ]
  },
  {
   "cell_type": "markdown",
   "metadata": {},
   "source": [
    "You can throw exceptions inside functions:"
   ]
  },
  {
   "cell_type": "code",
   "execution_count": 6,
   "metadata": {},
   "outputs": [],
   "source": [
    "#include <exception>"
   ]
  },
  {
   "cell_type": "code",
   "execution_count": 7,
   "metadata": {},
   "outputs": [],
   "source": [
    "void throwSomething() {\n",
    "    exception e;\n",
    "    throw(e);\n",
    "}"
   ]
  },
  {
   "cell_type": "code",
   "execution_count": 10,
   "metadata": {},
   "outputs": [
    {
     "name": "stdout",
     "output_type": "stream",
     "text": [
      "we caught something\n"
     ]
    }
   ],
   "source": [
    "try {\n",
    "    throwSomething();\n",
    "} catch (exception e) {\n",
    "    cout << \"we caught something\" << endl;\n",
    "}"
   ]
  },
  {
   "cell_type": "markdown",
   "metadata": {},
   "source": [
    "# Other things to look over <a name=\"other\"></a>"
   ]
  },
  {
   "cell_type": "markdown",
   "metadata": {},
   "source": [
    "## Weird Syntax Tricks"
   ]
  },
  {
   "cell_type": "markdown",
   "metadata": {},
   "source": [
    "Read the code closely & watch out for stuff like this:"
   ]
  },
  {
   "cell_type": "code",
   "execution_count": 12,
   "metadata": {},
   "outputs": [
    {
     "name": "stderr",
     "output_type": "stream",
     "text": [
      "\u001b[1minput_line_17:2:6: \u001b[0m\u001b[0;1;31merror: \u001b[0m\u001b[1mredefinition of 'a'\u001b[0m\n",
      " int a = 5;\n",
      "\u001b[0;1;32m     ^\n",
      "\u001b[0m\u001b[1minput_line_16:2:6: \u001b[0m\u001b[0;1;30mnote: \u001b[0mprevious definition is here\u001b[0m\n",
      " int a = 5;\n",
      "\u001b[0;1;32m     ^\n",
      "\u001b[0m"
     ]
    },
    {
     "ename": "Interpreter Error",
     "evalue": "",
     "output_type": "error",
     "traceback": [
      "Interpreter Error: "
     ]
    }
   ],
   "source": [
    "int a = 5;"
   ]
  },
  {
   "cell_type": "code",
   "execution_count": 14,
   "metadata": {},
   "outputs": [
    {
     "name": "stderr",
     "output_type": "stream",
     "text": [
      "\u001b[1minput_line_19:2:8: \u001b[0m\u001b[0;1;35mwarning: \u001b[0m\u001b[1musing the result of an assignment as a condition without parentheses\n",
      "      [-Wparentheses]\u001b[0m\n",
      " if (a = 6) {\n",
      "\u001b[0;1;32m     ~~^~~\n",
      "\u001b[0m\u001b[1minput_line_19:2:8: \u001b[0m\u001b[0;1;30mnote: \u001b[0mplace parentheses around the assignment to silence this warning\u001b[0m\n",
      " if (a = 6) {\n",
      "\u001b[0;1;32m       ^\n",
      "\u001b[0m\u001b[0;32m     (    )\n",
      "\u001b[0m\u001b[1minput_line_19:2:8: \u001b[0m\u001b[0;1;30mnote: \u001b[0muse '==' to turn this assignment into an equality comparison\u001b[0m\n",
      " if (a = 6) {\n",
      "\u001b[0;1;32m       ^\n",
      "\u001b[0m\u001b[0;32m       ==\n",
      "\u001b[0m"
     ]
    },
    {
     "name": "stdout",
     "output_type": "stream",
     "text": [
      "a is 6\n"
     ]
    }
   ],
   "source": [
    "// this is an assignment statement, not checking for equality!\n",
    "if (a = 6) {\n",
    "    cout << \"a is 6\" << endl;\n",
    "} else {\n",
    "    cout << \"surprise! this isn't going to run.\" << endl;\n",
    "}\n",
    "// cling is nice and yells at you for this, but you won't see that warning on an exam!"
   ]
  },
  {
   "cell_type": "markdown",
   "metadata": {},
   "source": [
    "Look back at the quizzes for more examples."
   ]
  }
 ],
 "metadata": {
  "kernelspec": {
   "display_name": "C++14",
   "language": "C++14",
   "name": "xcpp14"
  },
  "language_info": {
   "codemirror_mode": "text/x-c++src",
   "file_extension": ".cpp",
   "mimetype": "text/x-c++src",
   "name": "c++",
   "version": "-std=c++14"
  }
 },
 "nbformat": 4,
 "nbformat_minor": 4
}

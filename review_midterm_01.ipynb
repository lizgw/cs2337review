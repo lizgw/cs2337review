{
 "cells": [
  {
   "cell_type": "markdown",
   "metadata": {},
   "source": [
    "# CS 2337.001 Midterm Review [Fall 2019]"
   ]
  },
  {
   "cell_type": "markdown",
   "metadata": {},
   "source": [
    "## Topics\n",
    "- [C++ Basics](#basics) (ch. 2)\n",
    "- [I/O](#io) (ch. 3)\n",
    "- [Control Structures](#control) (ch. 4-5)\n",
    "- [User-defined Functions](#functions) (ch. 6)\n",
    "- [Arrays & Strings](#arrstrings) (ch. 8)\n",
    "- [Structs](#structs) (ch. 9)\n",
    "- [Classes](#classes) (ch. 10)\n",
    "- [Overloading](#overloading) (ch. 13)\n",
    "- [Pointers](#pointers) (ch. 12)\n",
    "- [Inheritance](#inheritance) (ch. 11)\n",
    "- [Templates](#templates) (ch. 13)"
   ]
  },
  {
   "cell_type": "markdown",
   "metadata": {},
   "source": [
    "**Author's note**: If you notice any mistakes, please let me know! I tried my best but I may not have caught everything. Feel free to submit a pull request or message me if you don't have jupyter lab set up.\n",
    "\n",
    "For more info about Jupyter & how it works, check out this demo: https://mybinder.org/v2/gh/QuantStack/xeus-cling/stable?filepath=notebooks/xcpp.ipynb"
   ]
  },
  {
   "cell_type": "markdown",
   "metadata": {},
   "source": [
    "## C++ Basics<a name=\"basics\"></a>"
   ]
  },
  {
   "cell_type": "markdown",
   "metadata": {},
   "source": [
    "### Preprocessor Directives"
   ]
  },
  {
   "cell_type": "markdown",
   "metadata": {},
   "source": [
    "- most functions are part of a library contained in a separate header file\n",
    "- put these at the top of your program\n",
    "- basic syntax is `#include <header name>`\n",
    "    - header name will be \\<in brackets\\> if it's a system one, otherwise \"in quotes.h\""
   ]
  },
  {
   "cell_type": "markdown",
   "metadata": {},
   "source": [
    "### Namespaces"
   ]
  },
  {
   "cell_type": "markdown",
   "metadata": {},
   "source": [
    "Always remember to put `using namespace std;` at the top of your program\n",
    "- this keeps you from having to specify `std::cout`, so you can just use `cout` (and anything else in `std`)"
   ]
  },
  {
   "cell_type": "code",
   "execution_count": 4,
   "metadata": {},
   "outputs": [],
   "source": [
    "#include <iostream>\n",
    "#include <iomanip>\n",
    "using namespace std; // always remember to do this!"
   ]
  },
  {
   "cell_type": "markdown",
   "metadata": {},
   "source": [
    "C++ is **based on expressions**:"
   ]
  },
  {
   "cell_type": "code",
   "execution_count": 2,
   "metadata": {},
   "outputs": [
    {
     "data": {
      "text/plain": [
       "5"
      ]
     },
     "execution_count": 2,
     "metadata": {},
     "output_type": "execute_result"
    }
   ],
   "source": [
    "2; // a single operand: valid\n",
    "2 + 3; // operands and operators: also valid\n",
    "// note: the output below is a Jupyter Labs thing, to get this to print in an actual program you'll have to use cout"
   ]
  },
  {
   "cell_type": "markdown",
   "metadata": {},
   "source": [
    "### Data Types"
   ]
  },
  {
   "cell_type": "markdown",
   "metadata": {},
   "source": [
    "categories of data types:\n",
    "- simple\n",
    "    - integral (`char`, `short`, `int`, `long`, `bool`, etc.)\n",
    "    - floating point (`float`, `double`, `long double`, etc.)\n",
    "    - enumerations\n",
    "- structured (classes & structs)\n",
    "- pointers"
   ]
  },
  {
   "cell_type": "markdown",
   "metadata": {},
   "source": [
    "#### Casting"
   ]
  },
  {
   "cell_type": "code",
   "execution_count": 9,
   "metadata": {},
   "outputs": [],
   "source": [
    "double num = 4.2;"
   ]
  },
  {
   "cell_type": "code",
   "execution_count": 13,
   "metadata": {},
   "outputs": [
    {
     "name": "stdout",
     "output_type": "stream",
     "text": [
      "4.2\n",
      "4\n",
      "4\n"
     ]
    },
    {
     "data": {
      "text/plain": [
       "@0x7fdc2c076b60"
      ]
     },
     "execution_count": 13,
     "metadata": {},
     "output_type": "execute_result"
    }
   ],
   "source": [
    "cout << num << endl;\n",
    "cout << int(num) << endl; // C-like casting\n",
    "cout << static_cast<int>(num) << endl; // more stable than C-like, use this one\n",
    "// ignore the memory address output, that's a weird Jupyter Labs thing"
   ]
  },
  {
   "cell_type": "markdown",
   "metadata": {},
   "source": [
    "### Declaring & Initializing Variables"
   ]
  },
  {
   "cell_type": "markdown",
   "metadata": {},
   "source": [
    "Variables may not be automatically initialized. Memory is allocated, but you don't know the state of that memory.\n",
    "\n",
    "Static & global variables will default to 0 (or the equivalent for that data type), but local variables won't."
   ]
  },
  {
   "cell_type": "markdown",
   "metadata": {},
   "source": [
    "### Operators"
   ]
  },
  {
   "cell_type": "markdown",
   "metadata": {},
   "source": [
    "can be classified by number of symbols:\n",
    "- one symbol (`+`, `-`, `=`, etc.)\n",
    "- two symbols (`++`, `--`, `==`, etc)\n",
    "can be classified by number of operands:\n",
    "- unary (`something++`, etc)\n",
    "- binary (`5 / 4`, `a = 5`)\n",
    "- ternary (`someCondition ? doIfTrue : doIfFalse`)"
   ]
  },
  {
   "cell_type": "markdown",
   "metadata": {},
   "source": [
    "### Portability"
   ]
  },
  {
   "cell_type": "markdown",
   "metadata": {},
   "source": [
    "- C++ is compiled for each platform\n",
    "    - rather than running on a virtual machine like Java\n",
    "- for some operations, result will be **compiler dependent**"
   ]
  },
  {
   "cell_type": "code",
   "execution_count": null,
   "metadata": {},
   "outputs": [],
   "source": [
    "int i = 3;"
   ]
  },
  {
   "cell_type": "code",
   "execution_count": null,
   "metadata": {},
   "outputs": [],
   "source": [
    "// don't do this!! it's super nasty & will give you different results on different compilers\n",
    "// the only guarantee is that the ++ will happen sometime before the next line\n",
    "i = i / i++;\n",
    "cout << i << endl;"
   ]
  },
  {
   "cell_type": "markdown",
   "metadata": {},
   "source": [
    "#### Portability & Data Type Sizes"
   ]
  },
  {
   "cell_type": "markdown",
   "metadata": {},
   "source": [
    "the size of data types depends on the architecture:"
   ]
  },
  {
   "cell_type": "code",
   "execution_count": 4,
   "metadata": {},
   "outputs": [
    {
     "name": "stdout",
     "output_type": "stream",
     "text": [
      "sizeof(short) = 2 bytes\n",
      "sizeof(int) = 4 bytes\n",
      "sizeof(long) = 8 bytes\n"
     ]
    }
   ],
   "source": [
    "cout << \"sizeof(short) = \" << sizeof(short) << \" bytes\" << endl;\n",
    "cout << \"sizeof(int) = \" << sizeof(int) << \" bytes\" << endl;\n",
    "cout << \"sizeof(long) = \" << sizeof(long) << \" bytes\" << endl;"
   ]
  },
  {
   "cell_type": "markdown",
   "metadata": {},
   "source": [
    "the only guarantee is a relative relationship: `sizeof(short)` <= `sizeof(int)` <= `sizeof(long)`"
   ]
  },
  {
   "cell_type": "markdown",
   "metadata": {},
   "source": [
    "#### Fixed Size Types"
   ]
  },
  {
   "cell_type": "markdown",
   "metadata": {},
   "source": [
    "you can use the `_t` types to ensure variables are all a standard size:"
   ]
  },
  {
   "cell_type": "code",
   "execution_count": 8,
   "metadata": {},
   "outputs": [
    {
     "name": "stdout",
     "output_type": "stream",
     "text": [
      "sizeof(int32_t) will always be: 4\n"
     ]
    },
    {
     "data": {
      "text/plain": [
       "@0x7fdc2c076b60"
      ]
     },
     "execution_count": 8,
     "metadata": {},
     "output_type": "execute_result"
    }
   ],
   "source": [
    "cout << \"sizeof(int32_t) will always be: \" << sizeof(int32_t) << endl; // should be 4\n",
    "// ignore the memory address output, that's also a Jupyter Labs thing"
   ]
  },
  {
   "cell_type": "markdown",
   "metadata": {},
   "source": [
    "#### (Parenthesis)"
   ]
  },
  {
   "cell_type": "markdown",
   "metadata": {},
   "source": [
    "`()` don't create execution code, they just guide parsing\n",
    "- `(((i++)))` and `i++` are equally efficient\n",
    "- in `i = (i) / (i++);`, the `()` make no difference"
   ]
  },
  {
   "cell_type": "markdown",
   "metadata": {},
   "source": [
    "## I/O <a name=\"io\"></a>"
   ]
  },
  {
   "cell_type": "markdown",
   "metadata": {},
   "source": [
    "- in C++, I/O is a stream (sequence of bytes)\n",
    "- you need to use the `iostream` header"
   ]
  },
  {
   "cell_type": "markdown",
   "metadata": {},
   "source": [
    "### Input & `cin`"
   ]
  },
  {
   "cell_type": "markdown",
   "metadata": {},
   "source": [
    "- `cin` (common input) is an `istream` object in the `iostream` header\n",
    "- use the **stream extraction operator** to get user input\n",
    "- `cin` uses whitespace as a delimiter!\n",
    "    - if you want to read input that contains spaces, use `getline(istreamVariable, stringVariable)` (you'll have to `#import <string>`"
   ]
  },
  {
   "cell_type": "code",
   "execution_count": 2,
   "metadata": {},
   "outputs": [
    {
     "name": "stdout",
     "output_type": "stream",
     "text": [
      "What's the answer to life, the universe, and everything? "
     ]
    },
    {
     "name": "stdin",
     "output_type": "stream",
     "text": [
      " 42\n"
     ]
    },
    {
     "name": "stdout",
     "output_type": "stream",
     "text": [
      "The answer is 42\n"
     ]
    }
   ],
   "source": [
    "int answer;\n",
    "cout << \"What's the answer to life, the universe, and everything? \";\n",
    "cin >> answer;\n",
    "cout << \"The answer is \" << answer << endl;"
   ]
  },
  {
   "cell_type": "markdown",
   "metadata": {},
   "source": [
    "some useful input functions:\n",
    "- `cin.get(someChar)` reads the next character and saves it into `someChar`\n",
    "- `cin.ignore(someInt, someChar)` ignores `someInt` characters or until `someChar` is reached, whichever comes first\n",
    "- `someChar = cin.peek()` returns the next character without removing it from the stream"
   ]
  },
  {
   "cell_type": "markdown",
   "metadata": {},
   "source": [
    "### Output & Formatting Output"
   ]
  },
  {
   "cell_type": "markdown",
   "metadata": {},
   "source": [
    "- you'll need to `#include <iomanip>`"
   ]
  },
  {
   "cell_type": "code",
   "execution_count": 4,
   "metadata": {},
   "outputs": [],
   "source": [
    "double gross = 3.1243554334;"
   ]
  },
  {
   "cell_type": "markdown",
   "metadata": {},
   "source": [
    "`setprecision(num)` goes in the stream like this:"
   ]
  },
  {
   "cell_type": "code",
   "execution_count": 13,
   "metadata": {},
   "outputs": [
    {
     "name": "stdout",
     "output_type": "stream",
     "text": [
      "3.12e+00\n",
      "3.1243554334e+00\n",
      "3.12436e+00\n"
     ]
    }
   ],
   "source": [
    "cout << gross << endl; // will be whatever it was last time\n",
    "cout << setprecision(10) << gross << endl;\n",
    "cout << setprecision(5) << gross << endl;"
   ]
  },
  {
   "cell_type": "markdown",
   "metadata": {},
   "source": [
    "`fixed` vs. `scientific`:"
   ]
  },
  {
   "cell_type": "code",
   "execution_count": 14,
   "metadata": {},
   "outputs": [
    {
     "name": "stdout",
     "output_type": "stream",
     "text": [
      "3.12436e+00\n",
      "3.12436\n"
     ]
    }
   ],
   "source": [
    "cout << scientific << gross << endl;\n",
    "cout << fixed << gross << endl;"
   ]
  },
  {
   "cell_type": "markdown",
   "metadata": {},
   "source": [
    "`showpoint` shows trailing zeroes in a number:"
   ]
  },
  {
   "cell_type": "code",
   "execution_count": 1,
   "metadata": {},
   "outputs": [],
   "source": [
    "double d = 7;"
   ]
  },
  {
   "cell_type": "code",
   "execution_count": 4,
   "metadata": {},
   "outputs": [
    {
     "name": "stdout",
     "output_type": "stream",
     "text": [
      "7\n",
      "7.00000\n"
     ]
    }
   ],
   "source": [
    "cout << noshowpoint << d << endl;\n",
    "cout << showpoint << d << endl;"
   ]
  },
  {
   "cell_type": "markdown",
   "metadata": {},
   "source": [
    "`setw(numColumns)` outputs things in a right-justified column"
   ]
  },
  {
   "cell_type": "code",
   "execution_count": 7,
   "metadata": {},
   "outputs": [
    {
     "name": "stdout",
     "output_type": "stream",
     "text": [
      "12345\n",
      "    5\n",
      "        10\n"
     ]
    }
   ],
   "source": [
    "cout << 12345 << endl;\n",
    "cout << setw(5) << 5 << endl;\n",
    "cout << setw(10) << 10 << endl;"
   ]
  },
  {
   "cell_type": "markdown",
   "metadata": {},
   "source": [
    "### File I/O"
   ]
  },
  {
   "cell_type": "markdown",
   "metadata": {},
   "source": [
    "5 steps:\n",
    "1. include the `fstream` header\n",
    "2. declare filestream vars\n",
    "3. associate filestream vars with I/O sources\n",
    "4. use `<<`, `>>`, and other I/O functions\n",
    "5. close the files"
   ]
  },
  {
   "cell_type": "markdown",
   "metadata": {},
   "source": [
    "#### Input Failure"
   ]
  },
  {
   "cell_type": "markdown",
   "metadata": {},
   "source": [
    "- stream enters fail state on errors like type mismatch\n",
    "- further I/O statements are ignored, it doesn't crash\n",
    "- it keeps running with whatever's in memory\n",
    "- to return to working state:\n",
    "    - use `cin.clear()`\n",
    "    - clear the buffer with something like `cin.ignore(200, '\\n')`"
   ]
  },
  {
   "cell_type": "markdown",
   "metadata": {},
   "source": [
    "## Control Structures <a name=\"control\"></a>"
   ]
  },
  {
   "cell_type": "markdown",
   "metadata": {},
   "source": [
    "### Logical Expressions"
   ]
  },
  {
   "cell_type": "markdown",
   "metadata": {},
   "source": [
    "- `<` and `>` depend on collating sequence (position in ASCII table)\n",
    "- 0 is false, nonzero is true"
   ]
  },
  {
   "cell_type": "code",
   "execution_count": 4,
   "metadata": {},
   "outputs": [
    {
     "name": "stdout",
     "output_type": "stream",
     "text": [
      "0\n",
      "1\n"
     ]
    }
   ],
   "source": [
    "cout << !(36) << endl;\n",
    "cout << !(!(36)) << endl;"
   ]
  },
  {
   "cell_type": "markdown",
   "metadata": {},
   "source": [
    "**short circuit evaluation**: as soon as an answer is determined, the rest of the conditional isn't evaluated\n",
    "- helpful when checking properties of objects to avoid null errors"
   ]
  },
  {
   "cell_type": "code",
   "execution_count": 6,
   "metadata": {},
   "outputs": [],
   "source": [
    "if (false && 3 > 4) {\n",
    "    cout << \"hello\" << endl;\n",
    "}"
   ]
  },
  {
   "cell_type": "markdown",
   "metadata": {},
   "source": [
    "### Loops"
   ]
  },
  {
   "cell_type": "code",
   "execution_count": 11,
   "metadata": {},
   "outputs": [
    {
     "name": "stdout",
     "output_type": "stream",
     "text": [
      "1\n",
      "2\n",
      "3\n",
      "4\n",
      "5\n"
     ]
    }
   ],
   "source": [
    "int counter1 = 0;\n",
    "while (counter1 < 5) {\n",
    "    counter1++;\n",
    "    cout << counter1 << endl;\n",
    "}"
   ]
  },
  {
   "cell_type": "code",
   "execution_count": 12,
   "metadata": {},
   "outputs": [
    {
     "name": "stdout",
     "output_type": "stream",
     "text": [
      "0\n",
      "1\n",
      "2\n",
      "3\n",
      "4\n"
     ]
    }
   ],
   "source": [
    "for (int i = 0; i < 5; i++)\n",
    "{\n",
    "    cout << i << endl;\n",
    "}"
   ]
  },
  {
   "cell_type": "code",
   "execution_count": 4,
   "metadata": {},
   "outputs": [
    {
     "name": "stdout",
     "output_type": "stream",
     "text": [
      "1 3 5 7 9 "
     ]
    }
   ],
   "source": [
    "// range-based for loop aka enhanced for loop\n",
    "int odds[5] = {1, 3, 5, 7, 9};\n",
    "for (int num : odds) {\n",
    "    cout << num << \" \";\n",
    "}"
   ]
  },
  {
   "cell_type": "code",
   "execution_count": 6,
   "metadata": {},
   "outputs": [
    {
     "name": "stderr",
     "output_type": "stream",
     "text": [
      "\u001b[1minput_line_13:3:5: \u001b[0m\u001b[0;1;31merror: \u001b[0m\u001b[1mredefinition of 'evens'\u001b[0m\n",
      "int evens[5] = {2, 4, 6, 8, 10};\n",
      "\u001b[0;1;32m    ^\n",
      "\u001b[0m\u001b[1minput_line_12:3:5: \u001b[0m\u001b[0;1;30mnote: \u001b[0mprevious definition is here\u001b[0m\n",
      "int evens[5] = {2, 4, 6, 8, 10};\n",
      "\u001b[0;1;32m    ^\n",
      "\u001b[0m"
     ]
    },
    {
     "ename": "Interpreter Error",
     "evalue": "",
     "output_type": "error",
     "traceback": [
      "Interpreter Error: "
     ]
    }
   ],
   "source": [
    "// if you want to modify the elements, use a reference variable\n",
    "int evens[5] = {2, 4, 6, 8, 10};\n",
    "\n",
    "for (int &num : evens) {\n",
    "    num = 0;\n",
    "}\n",
    "\n",
    "// now print the array to show that the elements were changed\n",
    "for (int num : evens) {\n",
    "    cout << num << \" \";\n",
    "}"
   ]
  },
  {
   "cell_type": "markdown",
   "metadata": {},
   "source": [
    "## User-defined Functions <a name=\"functions\"></a>"
   ]
  },
  {
   "cell_type": "markdown",
   "metadata": {},
   "source": [
    "syntax example - defining a function:\n",
    "```cpp\n",
    "returnType functionName(dataType formalParameter) {\n",
    "    // do something\n",
    "}\n",
    "```"
   ]
  },
  {
   "cell_type": "markdown",
   "metadata": {},
   "source": [
    "syntax example - calling a function:\n",
    "```cpp\n",
    "functionName(actualParameters);\n",
    "```"
   ]
  },
  {
   "cell_type": "markdown",
   "metadata": {},
   "source": [
    "**implicit type promotion** happens when you're passing values into a function:"
   ]
  },
  {
   "cell_type": "code",
   "execution_count": 2,
   "metadata": {},
   "outputs": [],
   "source": [
    "void promotionExample(double num) {\n",
    "    // using the showpoint manipulator to show that it's actually a double\n",
    "    cout << showpoint << num << \" is now a double\" << endl;\n",
    "}"
   ]
  },
  {
   "cell_type": "code",
   "execution_count": 3,
   "metadata": {},
   "outputs": [
    {
     "name": "stdout",
     "output_type": "stream",
     "text": [
      "42.0000 is now a double\n"
     ]
    }
   ],
   "source": [
    "int someInteger = 42;\n",
    "promotionExample(someInteger);"
   ]
  },
  {
   "cell_type": "markdown",
   "metadata": {},
   "source": [
    "### Function Prototypes"
   ]
  },
  {
   "cell_type": "markdown",
   "metadata": {},
   "source": [
    "used before `main()` so the compiler knows enough to use the function, because they must be defined before they're used\n",
    "\n",
    "syntax example:\n",
    "```\n",
    "returnType functionName(dataType); // you don't need to inclide the parameter name\n",
    "```"
   ]
  },
  {
   "cell_type": "markdown",
   "metadata": {},
   "source": [
    "### Value vs. Reference Parameters"
   ]
  },
  {
   "cell_type": "markdown",
   "metadata": {},
   "source": [
    "a **value parameter** gets a *copy of the content* of the actual parameter\n",
    "- it's deallocated when the block/function ends"
   ]
  },
  {
   "cell_type": "code",
   "execution_count": 1,
   "metadata": {},
   "outputs": [],
   "source": [
    "int someValue = 42;"
   ]
  },
  {
   "cell_type": "code",
   "execution_count": 3,
   "metadata": {},
   "outputs": [],
   "source": [
    "void someFunction(int valueParam) {\n",
    "    cout << \"I got a copy of \" << valueParam << endl;\n",
    "}"
   ]
  },
  {
   "cell_type": "code",
   "execution_count": 4,
   "metadata": {},
   "outputs": [
    {
     "name": "stdout",
     "output_type": "stream",
     "text": [
      "I got a copy of 42\n"
     ]
    }
   ],
   "source": [
    "someFunction(someValue);"
   ]
  },
  {
   "cell_type": "markdown",
   "metadata": {},
   "source": [
    "a **reference parameter** gets the *memory address* of the actual parameter\n",
    "\n",
    "can be useful for:\n",
    "- \"returning\" more than one value\n",
    "- saving space/time by passing an address instead of a copy"
   ]
  },
  {
   "cell_type": "code",
   "execution_count": 2,
   "metadata": {},
   "outputs": [],
   "source": [
    "int *pointer1;\n",
    "int x = 100;\n",
    "pointer1 = &x;"
   ]
  },
  {
   "cell_type": "code",
   "execution_count": 3,
   "metadata": {},
   "outputs": [],
   "source": [
    "void referenceFunction(int &referenceParam) {\n",
    "    referenceParam++;\n",
    "    cout << referenceParam << endl;\n",
    "}"
   ]
  },
  {
   "cell_type": "code",
   "execution_count": 4,
   "metadata": {},
   "outputs": [
    {
     "name": "stdout",
     "output_type": "stream",
     "text": [
      "101\n"
     ]
    }
   ],
   "source": [
    "referenceFunction(*pointer1);"
   ]
  },
  {
   "cell_type": "markdown",
   "metadata": {},
   "source": [
    "the actual variable gets changed because it's passed by reference:"
   ]
  },
  {
   "cell_type": "code",
   "execution_count": 5,
   "metadata": {},
   "outputs": [
    {
     "name": "stdout",
     "output_type": "stream",
     "text": [
      "101\n"
     ]
    }
   ],
   "source": [
    "cout << *pointer1 << endl;"
   ]
  },
  {
   "cell_type": "markdown",
   "metadata": {},
   "source": [
    "### Static Variables"
   ]
  },
  {
   "cell_type": "markdown",
   "metadata": {},
   "source": [
    "- memory is allocated as long as the program is running\n",
    "- static locals have the same scope as usual (within the `{}`)\n",
    "    - sort of like a global variable but only for that function"
   ]
  },
  {
   "cell_type": "code",
   "execution_count": 3,
   "metadata": {},
   "outputs": [],
   "source": [
    "void weirdStaticStuff() {\n",
    "    static int timesRun = 0;\n",
    "    cout << timesRun << endl;\n",
    "    timesRun++;\n",
    "}"
   ]
  },
  {
   "cell_type": "code",
   "execution_count": 5,
   "metadata": {},
   "outputs": [
    {
     "name": "stdout",
     "output_type": "stream",
     "text": [
      "1\n",
      "2\n",
      "3\n"
     ]
    }
   ],
   "source": [
    "weirdStaticStuff();\n",
    "weirdStaticStuff();\n",
    "weirdStaticStuff();"
   ]
  },
  {
   "cell_type": "code",
   "execution_count": 6,
   "metadata": {},
   "outputs": [
    {
     "name": "stderr",
     "output_type": "stream",
     "text": [
      "\u001b[1minput_line_13:2:10: \u001b[0m\u001b[0;1;31merror: \u001b[0m\u001b[1muse of undeclared identifier 'timesRun'\u001b[0m\n",
      " cout << timesRun << endl;\n",
      "\u001b[0;1;32m         ^\n",
      "\u001b[0m"
     ]
    },
    {
     "ename": "Interpreter Error",
     "evalue": "",
     "output_type": "error",
     "traceback": [
      "Interpreter Error: "
     ]
    }
   ],
   "source": [
    "cout << timesRun << endl;\n",
    "// causes an error because timesRun isn't accessable outside of the function"
   ]
  },
  {
   "cell_type": "markdown",
   "metadata": {},
   "source": [
    "### Function Overloading"
   ]
  },
  {
   "cell_type": "markdown",
   "metadata": {},
   "source": [
    "- same function name, different parameters list\n",
    "- changing the return type isn't overloading, that'll cause a compile error"
   ]
  },
  {
   "cell_type": "code",
   "execution_count": 2,
   "metadata": {},
   "outputs": [
    {
     "name": "stderr",
     "output_type": "stream",
     "text": [
      "\u001b[1minput_line_9:5:26: \u001b[0m\u001b[0;1;31merror: \u001b[0m\u001b[1mfunction definition is not allowed here\u001b[0m\n",
      " void functionA(int num) {\n",
      "\u001b[0;1;32m                         ^\n",
      "\u001b[0m"
     ]
    },
    {
     "ename": "Interpreter Error",
     "evalue": "",
     "output_type": "error",
     "traceback": [
      "Interpreter Error: "
     ]
    }
   ],
   "source": [
    "void functionA() {\n",
    "    cout << \"no params\" << endl;\n",
    "}\n",
    "void functionA(int num) {\n",
    "    cout << \"one param: \" << num << endl;\n",
    "}"
   ]
  },
  {
   "cell_type": "markdown",
   "metadata": {},
   "source": [
    "## Arrays & Strings<a name=\"arrstrings\"></a>"
   ]
  },
  {
   "cell_type": "markdown",
   "metadata": {},
   "source": [
    "### Arrays"
   ]
  },
  {
   "cell_type": "markdown",
   "metadata": {},
   "source": [
    "- has a fixed number of elements\n",
    "    - the number has to be defined when the array is created, you can't get it from user input (the compiler has to know how much memory to allocate)\n",
    "    - you can use a `const` to set the size, just not a regular variable\n",
    "- C++ doesn't check if arrays go out of bounds\n",
    "    - it just uses whatever memory is there & weird things can happen\n",
    "- functions can't return arrays!"
   ]
  },
  {
   "cell_type": "markdown",
   "metadata": {},
   "source": [
    "#### Array Initialization"
   ]
  },
  {
   "cell_type": "code",
   "execution_count": 2,
   "metadata": {},
   "outputs": [],
   "source": [
    "int arr1[3] = {1, 2, 3};\n",
    "int arr2[5];"
   ]
  },
  {
   "cell_type": "code",
   "execution_count": 3,
   "metadata": {},
   "outputs": [
    {
     "data": {
      "text/plain": [
       "2"
      ]
     },
     "execution_count": 3,
     "metadata": {},
     "output_type": "execute_result"
    }
   ],
   "source": [
    "arr2[0] = 1;\n",
    "arr2[1] = 2;\n",
    "// etc..."
   ]
  },
  {
   "cell_type": "markdown",
   "metadata": {},
   "source": [
    "Arrays don't allow aggregate operations:\n",
    "```\n",
    "listOne = listTwo; // doesn't work! creates a syntax error\n",
    "```\n",
    "\n",
    "Also, the name of the array is a **const pointers**, so you can't assign to that."
   ]
  },
  {
   "cell_type": "markdown",
   "metadata": {},
   "source": [
    "If you want to copy, do input, compare, etc, use a for loop through the array."
   ]
  },
  {
   "cell_type": "markdown",
   "metadata": {},
   "source": [
    "Arrays are always **passed by reference** into a function (you don't need to specify `&`). Use a `const` array in the parameter list if you don't want it to change."
   ]
  },
  {
   "cell_type": "code",
   "execution_count": 2,
   "metadata": {},
   "outputs": [],
   "source": [
    "int nums[5] = {1, 2, 3, 4, 5};"
   ]
  },
  {
   "cell_type": "code",
   "execution_count": 3,
   "metadata": {},
   "outputs": [],
   "source": [
    "// just a helper function to print out everything\n",
    "void printArray(const int toPrint[], int arrLength) {\n",
    "    for (int i = 0; i < arrLength; i++) {\n",
    "        cout << toPrint[i] << \" \";\n",
    "    }\n",
    "}"
   ]
  },
  {
   "cell_type": "code",
   "execution_count": 4,
   "metadata": {},
   "outputs": [
    {
     "name": "stdout",
     "output_type": "stream",
     "text": [
      "1 2 3 4 5 "
     ]
    }
   ],
   "source": [
    "printArray(nums, 5);"
   ]
  },
  {
   "cell_type": "code",
   "execution_count": 5,
   "metadata": {},
   "outputs": [],
   "source": [
    "// changes every element in the array to 0 and prints it out\n",
    "void changeArray(int toChange[], int arrLength) {\n",
    "    for (int i = 0; i < arrLength; i++) {\n",
    "        toChange[i] = 0;\n",
    "        cout << toChange[i] << \" \";\n",
    "    }\n",
    "}"
   ]
  },
  {
   "cell_type": "code",
   "execution_count": 6,
   "metadata": {},
   "outputs": [
    {
     "name": "stdout",
     "output_type": "stream",
     "text": [
      "0 0 0 0 0 "
     ]
    }
   ],
   "source": [
    "changeArray(nums, 5);"
   ]
  },
  {
   "cell_type": "code",
   "execution_count": 7,
   "metadata": {},
   "outputs": [
    {
     "name": "stdout",
     "output_type": "stream",
     "text": [
      "0 0 0 0 0 "
     ]
    }
   ],
   "source": [
    "// the array itself was changed, there was no copy made as it was passed into the function\n",
    "printArray(nums, 5);"
   ]
  },
  {
   "cell_type": "markdown",
   "metadata": {},
   "source": [
    "### Array Addressing\n",
    "\n",
    "The **base address** of the array is the address of the first element in the array."
   ]
  },
  {
   "cell_type": "code",
   "execution_count": 8,
   "metadata": {},
   "outputs": [],
   "source": [
    "int someElements[3] = {1, 2, 3};"
   ]
  },
  {
   "cell_type": "code",
   "execution_count": 9,
   "metadata": {},
   "outputs": [
    {
     "name": "stdout",
     "output_type": "stream",
     "text": [
      "0x7fb97d87d050\n"
     ]
    }
   ],
   "source": [
    "cout << someElements << endl;"
   ]
  },
  {
   "cell_type": "code",
   "execution_count": 10,
   "metadata": {},
   "outputs": [
    {
     "name": "stdout",
     "output_type": "stream",
     "text": [
      "0x7fb97d87d050\n"
     ]
    }
   ],
   "source": [
    "cout << &someElements[0] << endl;"
   ]
  },
  {
   "cell_type": "markdown",
   "metadata": {},
   "source": [
    "Memory spaces in an array are **contiguous**."
   ]
  },
  {
   "cell_type": "code",
   "execution_count": 12,
   "metadata": {},
   "outputs": [
    {
     "name": "stdout",
     "output_type": "stream",
     "text": [
      "0x7fb97d87d054 0x7fb97d87d058\n"
     ]
    }
   ],
   "source": [
    "cout << &someElements[1] << \" \" << &someElements[2] << endl;"
   ]
  },
  {
   "cell_type": "markdown",
   "metadata": {},
   "source": [
    "### 2D Arrays"
   ]
  },
  {
   "cell_type": "code",
   "execution_count": 5,
   "metadata": {},
   "outputs": [],
   "source": [
    "// creates a 2D array with 3 rows and 2 columns\n",
    "int secondDimension[3][2];"
   ]
  },
  {
   "cell_type": "code",
   "execution_count": 6,
   "metadata": {},
   "outputs": [],
   "source": [
    "// initializing a 2D array\n",
    "for (int r = 0; r < 3; r++) {\n",
    "    for (int c = 0; c < 2; c++) {\n",
    "        secondDimension[r][c] = r * c;\n",
    "    }\n",
    "}"
   ]
  },
  {
   "cell_type": "code",
   "execution_count": 7,
   "metadata": {},
   "outputs": [
    {
     "name": "stdout",
     "output_type": "stream",
     "text": [
      "0 0 \n",
      "0 1 \n",
      "0 2 \n"
     ]
    }
   ],
   "source": [
    "// printing out a 2D Array\n",
    "for (int r = 0; r < 3; r++) {\n",
    "    for (int c = 0; c < 2; c++) {\n",
    "        cout << secondDimension[r][c] << \" \";\n",
    "    }\n",
    "    cout << endl;\n",
    "}"
   ]
  },
  {
   "cell_type": "markdown",
   "metadata": {},
   "source": [
    "### C-strings (Character Strings)"
   ]
  },
  {
   "cell_type": "markdown",
   "metadata": {},
   "source": [
    "c-strings are null-terminated:"
   ]
  },
  {
   "cell_type": "code",
   "execution_count": 2,
   "metadata": {},
   "outputs": [],
   "source": [
    "char name[6] = {'a', 'b', 'c', 'd', 'e', '\\0'};"
   ]
  },
  {
   "cell_type": "code",
   "execution_count": 3,
   "metadata": {},
   "outputs": [
    {
     "name": "stdout",
     "output_type": "stream",
     "text": [
      "abcde\n"
     ]
    }
   ],
   "source": [
    "cout << name << endl;"
   ]
  },
  {
   "cell_type": "markdown",
   "metadata": {},
   "source": [
    "Aggregate operations aren't allowed on c-strings:\n",
    "\n",
    "```\n",
    "name = \"Arthur Dent\"; // not allowed!! will cause an error\n",
    "```\n",
    "\n",
    "If you want to manipulate c-strings, import `cstring` and use:\n",
    "\n",
    "- `strcpy(string1, string2)`: copies the first string into the second, doesn't check for string length\n",
    "- `strncpy(string1, string2, limit)`: same as above but it limits the number of characters to copy\n",
    "- `strcmp(string1, string2)`: compares the strings, returns negative if string1 < string2 (like Java's `compareTo`)\n",
    "- `strlen(s)`: gets the length excluding the null character"
   ]
  },
  {
   "cell_type": "markdown",
   "metadata": {},
   "source": [
    "## Structs <a name=\"structs\"></a>"
   ]
  },
  {
   "cell_type": "markdown",
   "metadata": {},
   "source": [
    "A **struct** groups items of different types."
   ]
  },
  {
   "cell_type": "code",
   "execution_count": 2,
   "metadata": {},
   "outputs": [],
   "source": [
    "struct studentType {\n",
    "    string name;\n",
    "    string major;\n",
    "}"
   ]
  },
  {
   "cell_type": "code",
   "execution_count": 3,
   "metadata": {},
   "outputs": [],
   "source": [
    "studentType me; // allocates memory to store members of the struct"
   ]
  },
  {
   "cell_type": "code",
   "execution_count": 4,
   "metadata": {},
   "outputs": [
    {
     "name": "stdout",
     "output_type": "stream",
     "text": [
      "Liz - Computer Science\n"
     ]
    }
   ],
   "source": [
    "me.name = \"Liz\";\n",
    "me.major = \"Computer Science\";\n",
    "cout << me.name << \" - \" << me.major << endl;"
   ]
  },
  {
   "cell_type": "markdown",
   "metadata": {},
   "source": [
    "Assigning a struct to a struct is just a memberwise copy:"
   ]
  },
  {
   "cell_type": "code",
   "execution_count": 5,
   "metadata": {},
   "outputs": [],
   "source": [
    "studentType someoneElse;"
   ]
  },
  {
   "cell_type": "code",
   "execution_count": 6,
   "metadata": {},
   "outputs": [
    {
     "name": "stdout",
     "output_type": "stream",
     "text": [
      "Liz - Computer Science\n"
     ]
    }
   ],
   "source": [
    "someoneElse = me;\n",
    "cout << someoneElse.name << \" - \" << someoneElse.major << endl;"
   ]
  },
  {
   "cell_type": "markdown",
   "metadata": {},
   "source": [
    "Just watch out for deep copy vs. shallow copy when pointers are involved.\n",
    "\n",
    "You can't do aggregate operations (comparison, IO, etc.) on structs:\n",
    "\n",
    "```\n",
    "// this won't work! == doesn't work between two structs, you have to compare them memberwise\n",
    "if (someoneElse == me) {\n",
    "    // whatever\n",
    "}\n",
    "```"
   ]
  },
  {
   "cell_type": "markdown",
   "metadata": {},
   "source": [
    "- structs can be passed by value or reference into functons\n",
    "- functions can return structs\n",
    "\n",
    "You can technically put functions in a struct in C++, but we don't by convention. In that case, just use a class."
   ]
  },
  {
   "cell_type": "markdown",
   "metadata": {},
   "source": [
    "## Classes <a name=\"classes\"></a>"
   ]
  },
  {
   "cell_type": "markdown",
   "metadata": {},
   "source": [
    "note: I was having some trouble defining constructors in cling/juptyer notebook, so just paste this into an IDE to run it :(\n",
    "\n",
    "```cpp\n",
    "class Course {\n",
    "public:\n",
    "\t// constructors\n",
    "\tCourse();\n",
    "\tCourse(string, int);\n",
    "\n",
    "\t// public function prototypes\n",
    "    // use const functions for ones that shouldn't modify anything\n",
    "\tstring getCourseName() const;\n",
    "\tstring setCourseName(string);\n",
    "\tint getCourseNumber() const;\n",
    "\tint setCourseNumber(int);\n",
    "\tvoid printCourseInfo();\n",
    "\n",
    "private:\n",
    "\tstring name;\n",
    "\tint number;\n",
    "};\n",
    "\n",
    "// defining the constructors\n",
    "Course::Course() {\n",
    "\tname = \"[no name]\";\n",
    "\tnumber = -1;\n",
    "}\n",
    "\n",
    "Course::Course(string courseName, int num) {\n",
    "\tname = courseName;\n",
    "\tnumber = num;\n",
    "}\n",
    "\n",
    "// defining methods\n",
    "string Course::getCourseName() const {\n",
    "\treturn name;\n",
    "}\n",
    "\n",
    "string Course::setCourseName(string newName) {\n",
    "\tname = newName;\n",
    "\treturn newName;\n",
    "}\n",
    "\n",
    "int Course::getCourseNumber() const {\n",
    "\treturn number;\n",
    "}\n",
    "\n",
    "int Course::setCourseNumber(int newNum) {\n",
    "\tnumber = newNum;\n",
    "\treturn newNum;\n",
    "}\n",
    "\n",
    "void Course::printCourseInfo() {\n",
    "\tcout << name << \" (\" << number << \")\" << endl;\n",
    "}\n",
    "\n",
    "// testing\n",
    "Course cs2337(\"Computer Science II\", 2337);\n",
    "Course emptyCourse;\n",
    "\n",
    "cs2337.printCourseInfo();\n",
    "emptyCourse.printCourseInfo();\n",
    "```"
   ]
  },
  {
   "cell_type": "markdown",
   "metadata": {},
   "source": [
    "**Constructors** run automatically when the object is instantiated."
   ]
  },
  {
   "cell_type": "markdown",
   "metadata": {},
   "source": [
    "A **copy constructor** is a way to initialize an object with values from an existing object (aka **default memberwise initialization**).\n",
    "- it's automatically provided by the compiler\n",
    "    - if there are pointer member variables, it leads to a shallow copy, so you have to override it to fix that\n",
    "\n",
    "```cpp\n",
    "className(const className& otherObject) { ... };\n",
    "```"
   ]
  },
  {
   "cell_type": "markdown",
   "metadata": {},
   "source": [
    "### Destructors"
   ]
  },
  {
   "cell_type": "markdown",
   "metadata": {},
   "source": [
    "Automatically run when the instance goes out of scope. There can only be one per class.\n",
    "\n",
    "```cpp\n",
    "~className();\n",
    "```"
   ]
  },
  {
   "cell_type": "markdown",
   "metadata": {},
   "source": [
    "## Overloading <a name=\"overloading\"></a>"
   ]
  },
  {
   "cell_type": "markdown",
   "metadata": {},
   "source": [
    "The only operators that work on classes by default are `=` and `.`, so in order to use `<<`, `==`, etc, you need to **overload** the operators.\n",
    "\n",
    "basic syntax:\n",
    "\n",
    "```cpp\n",
    "returnType operator==(params) {\n",
    "    // do something\n",
    "}\n",
    "```"
   ]
  },
  {
   "cell_type": "markdown",
   "metadata": {},
   "source": [
    "some restrictions on overloading:\n",
    "- you can't create new operators\n",
    "- you can't change precedence/associativity\n",
    "- you can't use default parameters\n",
    "- you can't change the number of parameters an operator works with\n",
    "- you can't change how the operator works with built-in types\n",
    "\n",
    "operators that can't be overloaded:\n",
    "- `.`\n",
    "- `::`\n",
    "- `? :`\n",
    "- `sizeof`"
   ]
  },
  {
   "cell_type": "markdown",
   "metadata": {},
   "source": [
    "### Friend Functions"
   ]
  },
  {
   "cell_type": "markdown",
   "metadata": {},
   "source": [
    "A **friend function** is not a member function of the class, but it has access to all members (including private) of the class. (yes, it can be kind of a security issue.)\n",
    "\n",
    "(these won't be a huge topic on the exam but you still need to generally understand what they are)\n",
    "\n",
    "Why would you use them? When some operators are overloaded, they have to be friend functions instead of member functions.\n",
    "\n",
    "Overloading `()`, `[]`, `->`, or `=` must be **member** functions.\n",
    "\n",
    "Overloading `<<` and `>>` must be **nonmember/friend** functions. This is because the far left operand is a different type than the class.\n",
    "- ex: with `cout << someObject`, `<<` needs to be a friend function because `cout` is a different type than `someObject`"
   ]
  },
  {
   "cell_type": "markdown",
   "metadata": {},
   "source": [
    "It's good to overload `=` to avoid a shallow copy when there are pointer member variables involved.\n",
    "```cpp\n",
    "// example function definition\n",
    "const className& className::operator=(const className& objToCopy) {\n",
    "    // avoid self-assignment\n",
    "    if (this != &objToCopy) {\n",
    "        // copy it\n",
    "    }\n",
    "    \n",
    "    // return type should be a reference of the class type instead of the value,\n",
    "    // so chaining works (ex: a = b = c)\n",
    "    return *this;\n",
    "}\n",
    "```"
   ]
  },
  {
   "cell_type": "markdown",
   "metadata": {},
   "source": [
    "For classes with pointer member variables, you should:\n",
    "- overload `=`\n",
    "- include a copy constructor\n",
    "- include a destructor"
   ]
  },
  {
   "cell_type": "markdown",
   "metadata": {},
   "source": [
    "# Pointers <a name=\"pointers\"></a>"
   ]
  },
  {
   "cell_type": "markdown",
   "metadata": {},
   "source": [
    "**Pointers** refer to memory addresses instead of values.\n",
    "\n",
    "`int *p;` creates a pointer to an int. The `*` can go anywhere in between `int` and `p` (`int* p` and `int * p` also work), but watch out when you're defining multiple variables:\n",
    "```cpp\n",
    "int* p, q;\n",
    "```\n",
    "In this case, only `p` is a pointer - `q` is a regular int.\n",
    "\n",
    "`&` is the **address of** operator:"
   ]
  },
  {
   "cell_type": "code",
   "execution_count": 11,
   "metadata": {},
   "outputs": [],
   "source": [
    "int x = 42;"
   ]
  },
  {
   "cell_type": "code",
   "execution_count": 12,
   "metadata": {},
   "outputs": [
    {
     "name": "stdout",
     "output_type": "stream",
     "text": [
      "0x7f911a3f1058 = 0x7f911a3f1058\n"
     ]
    }
   ],
   "source": [
    "int *p;\n",
    "p = &x; // assigns the address of x (an int) to the pointer p\n",
    "cout << p << \" = \" << &x << endl;"
   ]
  },
  {
   "cell_type": "markdown",
   "metadata": {},
   "source": [
    "`*` is the dereferencing operator, aka the indirection operator: it refers to the object at which a pointer points."
   ]
  },
  {
   "cell_type": "code",
   "execution_count": 15,
   "metadata": {},
   "outputs": [
    {
     "name": "stdout",
     "output_type": "stream",
     "text": [
      "42\n"
     ]
    }
   ],
   "source": [
    "cout << *p << endl;"
   ]
  },
  {
   "cell_type": "markdown",
   "metadata": {},
   "source": [
    "`p `refers to a memory address that has an int in it, so the `*` says \"give me whatever value is in this address\".\n",
    "\n",
    "You can also use the dereferencing operator to manpulate values:"
   ]
  },
  {
   "cell_type": "code",
   "execution_count": 16,
   "metadata": {},
   "outputs": [
    {
     "name": "stdout",
     "output_type": "stream",
     "text": [
      "101\n"
     ]
    }
   ],
   "source": [
    "*p = 101;\n",
    "cout << *p << endl;"
   ]
  },
  {
   "cell_type": "markdown",
   "metadata": {},
   "source": [
    "Since we set `p` equal to the address of `x`, they both refer to the same thing. Changing one will change the other."
   ]
  },
  {
   "cell_type": "code",
   "execution_count": 17,
   "metadata": {},
   "outputs": [
    {
     "name": "stdout",
     "output_type": "stream",
     "text": [
      "101 101\n"
     ]
    }
   ],
   "source": [
    "cout << *p << \" \" << x << endl;"
   ]
  },
  {
   "cell_type": "markdown",
   "metadata": {},
   "source": [
    "To summarize:\n",
    "- `&someVar` is the address of `someVar`\n",
    "- `someVar` is the content of `someVar`\n",
    "- `*someVar` is the content of the memory location to which `someVar` points"
   ]
  },
  {
   "cell_type": "markdown",
   "metadata": {},
   "source": [
    "### The weird array indexing trick"
   ]
  },
  {
   "cell_type": "markdown",
   "metadata": {},
   "source": [
    "`[]` is a binary operator that works on pointers and ints. It just does pointer arithmetic under the hood:"
   ]
  },
  {
   "cell_type": "code",
   "execution_count": 2,
   "metadata": {},
   "outputs": [],
   "source": [
    "int fibb[5] = {0, 1, 1, 2, 3};"
   ]
  },
  {
   "cell_type": "code",
   "execution_count": 5,
   "metadata": {},
   "outputs": [
    {
     "name": "stdout",
     "output_type": "stream",
     "text": [
      "1\n",
      "1\n"
     ]
    }
   ],
   "source": [
    "cout << fibb[2] << endl;\n",
    "// this is the same thing:\n",
    "cout << *(fibb + 2) << endl;"
   ]
  },
  {
   "cell_type": "markdown",
   "metadata": {},
   "source": [
    "`*(fibb + 2)` works because `fibb` is just a pointer to the first element in the array. Since array elements are contiguous in memory, adding 2 to the pointer just moves us 2 spaces down in the array, and then we dereference the whole thing with `*` to get the value instead of the memory address."
   ]
  },
  {
   "cell_type": "code",
   "execution_count": 6,
   "metadata": {},
   "outputs": [
    {
     "name": "stdout",
     "output_type": "stream",
     "text": [
      "1\n"
     ]
    }
   ],
   "source": [
    "// this is also the same thing:\n",
    "cout << *(2 + fibb) << endl;"
   ]
  },
  {
   "cell_type": "markdown",
   "metadata": {},
   "source": [
    "Addition is **commutative**: it doesn't matter what order we do it in. `fibb + 2` and `2 + fibb` are the exact same thing. Because of that, we can do this:"
   ]
  },
  {
   "cell_type": "code",
   "execution_count": 8,
   "metadata": {},
   "outputs": [
    {
     "name": "stdout",
     "output_type": "stream",
     "text": [
      "1\n"
     ]
    }
   ],
   "source": [
    "// this is also the same thing\n",
    "cout << 2[fibb] << endl;"
   ]
  },
  {
   "cell_type": "markdown",
   "metadata": {},
   "source": [
    "Since we know it's just adding to a pointer under the hood, we can do `2[fibb]` and `fibb[2]` and get the exact same thing."
   ]
  },
  {
   "cell_type": "code",
   "execution_count": 10,
   "metadata": {},
   "outputs": [
    {
     "name": "stdout",
     "output_type": "stream",
     "text": [
      "they're the same!\n"
     ]
    }
   ],
   "source": [
    "if (fibb[2] == 2[fibb]) {\n",
    "    cout << \"they're the same!\" << endl;\n",
    "}"
   ]
  },
  {
   "cell_type": "markdown",
   "metadata": {},
   "source": [
    "**Just because you can doesn't mean you should.** It's a cool trick, but don't do it when you're writing actual code. It's just going to confuse people, which is the opposite of what your code should do. "
   ]
  },
  {
   "cell_type": "markdown",
   "metadata": {},
   "source": [
    "### Member access operator arrow"
   ]
  },
  {
   "cell_type": "markdown",
   "metadata": {},
   "source": [
    "When you're trying to access a pointer variable inside a struct or class:"
   ]
  },
  {
   "cell_type": "code",
   "execution_count": 2,
   "metadata": {},
   "outputs": [],
   "source": [
    "struct House {\n",
    "    int numBedrooms;\n",
    "    int numBathrooms;\n",
    "}"
   ]
  },
  {
   "cell_type": "code",
   "execution_count": 3,
   "metadata": {},
   "outputs": [],
   "source": [
    "House *someHouse = new House;"
   ]
  },
  {
   "cell_type": "code",
   "execution_count": 7,
   "metadata": {},
   "outputs": [
    {
     "name": "stderr",
     "output_type": "stream",
     "text": [
      "\u001b[1minput_line_14:2:11: \u001b[0m\u001b[0;1;31merror: \u001b[0m\u001b[1mmember reference type 'House *' is a pointer; did you mean to use '->'?\u001b[0m\n",
      " someHouse.numBedrooms = 3; // doesn't work!\n",
      "\u001b[0;1;32m ~~~~~~~~~^\n",
      "\u001b[0m\u001b[0;32m          ->\n",
      "\u001b[0m"
     ]
    },
    {
     "ename": "Interpreter Error",
     "evalue": "",
     "output_type": "error",
     "traceback": [
      "Interpreter Error: "
     ]
    }
   ],
   "source": [
    "someHouse.numBedrooms = 3; // causes an error!"
   ]
  },
  {
   "cell_type": "code",
   "execution_count": 5,
   "metadata": {},
   "outputs": [],
   "source": [
    "// you can do this:\n",
    "(*someHouse).numBedrooms = 2;\n",
    "// but this is better\n",
    "someHouse->numBedrooms = 3;"
   ]
  },
  {
   "cell_type": "markdown",
   "metadata": {},
   "source": [
    "### Initializing Pointers"
   ]
  },
  {
   "cell_type": "code",
   "execution_count": 8,
   "metadata": {},
   "outputs": [],
   "source": [
    "#include <cstddef>\n",
    "// if you want to use NULL"
   ]
  },
  {
   "cell_type": "code",
   "execution_count": 9,
   "metadata": {},
   "outputs": [],
   "source": [
    "int *ptr;"
   ]
  },
  {
   "cell_type": "code",
   "execution_count": 10,
   "metadata": {},
   "outputs": [],
   "source": [
    "ptr = NULL;\n",
    "ptr = 0; // the only number that can be directly assigned to a pointer\n",
    "ptr = nullptr;"
   ]
  },
  {
   "cell_type": "markdown",
   "metadata": {},
   "source": [
    "### Dynamic Variables"
   ]
  },
  {
   "cell_type": "markdown",
   "metadata": {},
   "source": [
    "Dynamic variables are created during program execution.\n",
    "- create them with the `new` operator, which allocates memory and returns a pointer\n",
    "    - it throws `bad_alloc` if there isn't enough memory space\n",
    "- destroy them with `delete`"
   ]
  },
  {
   "cell_type": "markdown",
   "metadata": {},
   "source": [
    "#### Creating Variables"
   ]
  },
  {
   "cell_type": "code",
   "execution_count": 11,
   "metadata": {},
   "outputs": [
    {
     "name": "stdout",
     "output_type": "stream",
     "text": [
      "500\n"
     ]
    }
   ],
   "source": [
    "// no new memory is created\n",
    "int *p;\n",
    "int x = 500;\n",
    "p = &x;\n",
    "cout << *p << endl;"
   ]
  },
  {
   "cell_type": "code",
   "execution_count": 12,
   "metadata": {},
   "outputs": [],
   "source": [
    "// new memory is allocated\n",
    "p = new int;"
   ]
  },
  {
   "cell_type": "markdown",
   "metadata": {},
   "source": [
    "#### Deleting Variables"
   ]
  },
  {
   "cell_type": "markdown",
   "metadata": {},
   "source": [
    "A **memory leak** happens when there's an unused memory space that can't be allocated."
   ]
  },
  {
   "cell_type": "code",
   "execution_count": 14,
   "metadata": {},
   "outputs": [],
   "source": [
    "int *ptr1 = new int;"
   ]
  },
  {
   "cell_type": "code",
   "execution_count": 16,
   "metadata": {},
   "outputs": [
    {
     "data": {
      "text/plain": [
       "@0x7ffdf16ef948"
      ]
     },
     "execution_count": 16,
     "metadata": {},
     "output_type": "execute_result"
    }
   ],
   "source": [
    "*ptr1 = 42;\n",
    "ptr1 = new int; // creates a new memory space! now the old one can't be accessed"
   ]
  },
  {
   "cell_type": "markdown",
   "metadata": {},
   "source": [
    "`delete` deallocates memory for dynamic variables.\n",
    "- use `delete []` to deallocate arrays\n",
    "- actually, it only marks spaces as deallocated, and variables may still contain addresses depending on the OS\n",
    "- these are called **dangling pointers**\n",
    "- it's good practice to set pointers to `nullptr` after you `delete` them"
   ]
  },
  {
   "cell_type": "markdown",
   "metadata": {},
   "source": [
    "### Dynamic Arrays"
   ]
  },
  {
   "cell_type": "code",
   "execution_count": 2,
   "metadata": {},
   "outputs": [],
   "source": [
    "int *dynamicArr;"
   ]
  },
  {
   "cell_type": "code",
   "execution_count": 3,
   "metadata": {},
   "outputs": [],
   "source": [
    "dynamicArr = new int[5];"
   ]
  },
  {
   "cell_type": "code",
   "execution_count": 4,
   "metadata": {},
   "outputs": [
    {
     "name": "stdout",
     "output_type": "stream",
     "text": [
      "35 1864399218\n"
     ]
    }
   ],
   "source": [
    "*dynamicArr = 42; // now the 1st element in the array is 42\n",
    "dynamicArr++; // move the pointer to the next spot in the array\n",
    "*dynamicArr = 35; // now the 2nd element is 35\n",
    "cout << dynamicArr[0] << \" \" << dynamicArr[1] << endl;"
   ]
  },
  {
   "cell_type": "markdown",
   "metadata": {},
   "source": [
    "If you make the array an int pointer, then you can size it dynamically and then treat it like a normal array:"
   ]
  },
  {
   "cell_type": "code",
   "execution_count": 5,
   "metadata": {},
   "outputs": [],
   "source": [
    "int *userList;\n",
    "int arrSize;"
   ]
  },
  {
   "cell_type": "code",
   "execution_count": 6,
   "metadata": {},
   "outputs": [
    {
     "name": "stdout",
     "output_type": "stream",
     "text": [
      "Enter array size: "
     ]
    },
    {
     "name": "stdin",
     "output_type": "stream",
     "text": [
      " \n",
      " 10\n"
     ]
    }
   ],
   "source": [
    "cout << \"Enter array size: \";\n",
    "cin >> arrSize;\n",
    "userList = new int[arrSize];"
   ]
  },
  {
   "cell_type": "code",
   "execution_count": 9,
   "metadata": {},
   "outputs": [
    {
     "name": "stdout",
     "output_type": "stream",
     "text": [
      "10\n"
     ]
    }
   ],
   "source": [
    "userList[0] = 10;\n",
    "cout << userList[0] << endl;"
   ]
  },
  {
   "cell_type": "markdown",
   "metadata": {},
   "source": [
    "You can't use range-based (enhanced) for loops with dynamic arrays:\n",
    "\n",
    "```cpp\n",
    "int *list;\n",
    "list = new int[5];\n",
    "\n",
    "for (int x : list) {\n",
    "    // this won't work!!!\n",
    "    // since the array is dynamic, it has no first/last element at compile time\n",
    "}\n",
    "```"
   ]
  },
  {
   "cell_type": "markdown",
   "metadata": {},
   "source": [
    "#### Dynamic 2D Arrays"
   ]
  },
  {
   "cell_type": "code",
   "execution_count": 10,
   "metadata": {},
   "outputs": [],
   "source": [
    "int *board[4]; // created an array of 4 int pointers"
   ]
  },
  {
   "cell_type": "code",
   "execution_count": 11,
   "metadata": {},
   "outputs": [],
   "source": [
    "// creating columns\n",
    "for (int row = 0; row < 4; row++) {\n",
    "    board[row] = new int[4];\n",
    "}"
   ]
  },
  {
   "cell_type": "code",
   "execution_count": 13,
   "metadata": {},
   "outputs": [
    {
     "name": "stdout",
     "output_type": "stream",
     "text": [
      "1580575232\n",
      "22085\n"
     ]
    },
    {
     "data": {
      "text/plain": [
       "@0x7fb7b8e51b60"
      ]
     },
     "execution_count": 13,
     "metadata": {},
     "output_type": "execute_result"
    }
   ],
   "source": [
    "cout << board[0][0] << endl;\n",
    "cout << board[3][3] << endl;\n",
    "// I didn't set them equal to anything so it's just going to print out whatever is in that memory space"
   ]
  },
  {
   "cell_type": "code",
   "execution_count": 14,
   "metadata": {},
   "outputs": [],
   "source": [
    "// here's another way to do it where the number of rows isn't fixed\n",
    "int **board2; // this is a pointer to a pointer"
   ]
  },
  {
   "cell_type": "code",
   "execution_count": 15,
   "metadata": {},
   "outputs": [
    {
     "data": {
      "text/plain": [
       "@0x7ffdb36fde48"
      ]
     },
     "execution_count": 15,
     "metadata": {},
     "output_type": "execute_result"
    }
   ],
   "source": [
    "board2 = new int*[4]; // makes an array of 4 int pointers\n",
    "// use the same code as above to make columns"
   ]
  },
  {
   "cell_type": "markdown",
   "metadata": {},
   "source": [
    "#### Destroying Dynamic Arrays"
   ]
  },
  {
   "cell_type": "markdown",
   "metadata": {},
   "source": [
    "They have to be destroyed manually, so include this in the class's destructor:\n",
    "```cpp\n",
    "className::~className() {\n",
    "    // other stuff\n",
    "   delete [] dynamicArrayVariable;\n",
    "}\n",
    "```"
   ]
  },
  {
   "cell_type": "markdown",
   "metadata": {},
   "source": [
    "## Smart Pointers"
   ]
  },
  {
   "cell_type": "markdown",
   "metadata": {},
   "source": [
    "**Smart pointers** help prevent memory leaks by handling garbage collection for you. Use the `unique_ptr` keyword.\n",
    "- they're immutable, so you can't assign to it\n",
    "- can't copy them"
   ]
  },
  {
   "cell_type": "markdown",
   "metadata": {},
   "source": [
    "# Inheritance <a name=\"inheritance\"></a>"
   ]
  },
  {
   "cell_type": "markdown",
   "metadata": {},
   "source": [
    "Inheritance creates an **\"is-a\"** relationship. In **single inheritance**, the derived class has one base class. In **multiple inheritance**, the derived class can have more than one base class.\n",
    "\n",
    "Syntax for creating a derived class:\n",
    "\n",
    "```cpp\n",
    "class derivedClassName: memberAccessSpecifier baseClassName { ... }\n",
    "// memberAccessSpecifier is either public, protected, or private\n",
    "```\n",
    "\n",
    "- the derived class **cannot** access private members of the base class\n",
    "- you can redefine/override public functions of the base class\n",
    "\n",
    "**Redefining** a method uses the same name and parameters.\n",
    "**Overloading** a method uses the same name, but different parameters (number/types).\n",
    "You can't override a private member variable.\n",
    "\n",
    "To call a public function of a base class:\n",
    "\n",
    "```cpp\n",
    "baseClassName::functionName();\n",
    "// like using super in Java\n",
    "```"
   ]
  },
  {
   "cell_type": "markdown",
   "metadata": {},
   "source": [
    "### Constructors & Inheritance"
   ]
  },
  {
   "cell_type": "markdown",
   "metadata": {},
   "source": [
    "- the derived class doesn't inherit constructors from the base class\n",
    "- constructors of derived classes can only directly initialize **public** members from the base class\n",
    "    - in order to initialize private members from the base class, call its constructor\n",
    "    - this happens in the heading of the derived class's constructor\n",
    "\n",
    "```cpp\n",
    "derivedClassName::derivedClassName(params) : baseClassName(params) { ... }\n",
    "```"
   ]
  },
  {
   "cell_type": "markdown",
   "metadata": {},
   "source": [
    "### Destructors & Inheritance"
   ]
  },
  {
   "cell_type": "markdown",
   "metadata": {},
   "source": [
    "- destructors are run automatically when the object exits scope\n",
    "- the base class destructor is automatically invoked, so you don't have to do it manually\n",
    "- destructors execute in reverse order, from derived to base"
   ]
  },
  {
   "cell_type": "markdown",
   "metadata": {},
   "source": [
    "### Multiple Inclusion in a Header File"
   ]
  },
  {
   "cell_type": "markdown",
   "metadata": {},
   "source": [
    "Including the same header file more than once can cause problems:\n",
    "\n",
    "ex: A includes B\n",
    "    C includes A and B (which includes A)\n",
    "\n",
    "\n",
    "To fix this, use preprocessor directives:\n",
    "\n",
    "```cpp\n",
    "#ifndef H_test // if the variable H_test is not defined\n",
    "#define H_test\n",
    "const int SOMETHING = 1;\n",
    "const int ANOTHER_THING = 2;\n",
    "#endif\n",
    "```\n",
    "\n",
    "This way, the constants won't be defined twice & cause a compile error."
   ]
  },
  {
   "cell_type": "markdown",
   "metadata": {},
   "source": [
    "### Member Access with Inheritance (public/protected/private)"
   ]
  },
  {
   "cell_type": "markdown",
   "metadata": {},
   "source": [
    "Note: You can't make a variable *more* available through inheritance. If a variable is private, you won't be able to make it public or protected in a derived class.\n",
    "\n",
    "```cpp\n",
    "class B : public A { ... }\n",
    "```\n",
    "- **public** members of A are **public** members of B\n",
    "- **protected** members of A are **protected** members of B\n",
    "- **private** members of A are **hidden** in B\n",
    "\n",
    "```cpp\n",
    "class B : protected A { ... }\n",
    "```\n",
    "- **public** members of A are **protected** members of B\n",
    "- **protected** members of A are **protected** members of B\n",
    "- **private** members of A are **hidden** in B\n",
    "\n",
    "```cpp\n",
    "class B : private A { ... }\n",
    "```\n",
    "- **public** members of A are **private** members of B (only accessible to B)\n",
    "- **protected** members of A are **private** members of B (only accessilble to B)\n",
    "- **private** members of A are **hidden** in B"
   ]
  },
  {
   "cell_type": "markdown",
   "metadata": {},
   "source": [
    "### Static & Dynamic Binding"
   ]
  },
  {
   "cell_type": "markdown",
   "metadata": {},
   "source": [
    "With **static/early** binding, function binding happens at compile time. With **run-time/late/dynamic binding**, the compiler generates just enough information for the runtime system generate the code for the function call.\n",
    "\n",
    "```cpp\n",
    "class Pet { ... }\n",
    "class Dog : public Pet { ... }\n",
    "\n",
    "doSomething(Pet p) {\n",
    "    // do something\n",
    "}\n",
    "\n",
    "doSomething(aPetObject);\n",
    "doSomething(aDogObject); // runs like it was a pet even though it's a dog!\n",
    "                         // this is because binding happens at compile time\n",
    "```\n",
    "\n",
    "To get around this, use a **virtual function**."
   ]
  },
  {
   "cell_type": "markdown",
   "metadata": {},
   "source": [
    "### Virtual Functions"
   ]
  },
  {
   "cell_type": "markdown",
   "metadata": {},
   "source": [
    "- the destructor of the base class must be virtual\n",
    "    - this way, the whole object is destroyed, not just the members of the derived class\n",
    "    \n",
    "A **pure virtual function** is useful when you don't want to include a definition for a function that will be overridden. To define it, set the prototype equal to zero:\n",
    "\n",
    "```cpp\n",
    "virtual void doSomething() = 0;\n",
    "```\n",
    "\n",
    "An **abstract class** has at least one pure virtual function in it. You can't instantiate an abstract class."
   ]
  },
  {
   "cell_type": "code",
   "execution_count": 11,
   "metadata": {},
   "outputs": [],
   "source": [
    "class SomethingAbstract {\n",
    "    public:\n",
    "    virtual int doSomething() = 0;\n",
    "}"
   ]
  },
  {
   "cell_type": "code",
   "execution_count": 12,
   "metadata": {},
   "outputs": [
    {
     "name": "stderr",
     "output_type": "stream",
     "text": [
      "\u001b[1minput_line_19:2:20: \u001b[0m\u001b[0;1;31merror: \u001b[0m\u001b[1mvariable type 'SomethingAbstract' is an abstract class\u001b[0m\n",
      " SomethingAbstract oof;\n",
      "\u001b[0;1;32m                   ^\n",
      "\u001b[0m\u001b[1minput_line_18:3:17: \u001b[0m\u001b[0;1;30mnote: \u001b[0munimplemented pure virtual method 'doSomething' in 'SomethingAbstract'\u001b[0m\n",
      "    virtual int doSomething() = 0;\n",
      "\u001b[0;1;32m                ^\n",
      "\u001b[0m"
     ]
    },
    {
     "ename": "Interpreter Error",
     "evalue": "",
     "output_type": "error",
     "traceback": [
      "Interpreter Error: "
     ]
    }
   ],
   "source": [
    "SomethingAbstract oof; // throws an error when you run it"
   ]
  },
  {
   "cell_type": "code",
   "execution_count": 14,
   "metadata": {},
   "outputs": [],
   "source": [
    "// but if you make a subclass, it works fine\n",
    "class SomethingDerived {\n",
    "    public:\n",
    "    int doSomething() {\n",
    "        return 42;\n",
    "    };\n",
    "}"
   ]
  },
  {
   "cell_type": "code",
   "execution_count": 15,
   "metadata": {},
   "outputs": [],
   "source": [
    "SomethingDerived nice;"
   ]
  },
  {
   "cell_type": "code",
   "execution_count": 16,
   "metadata": {},
   "outputs": [
    {
     "name": "stdout",
     "output_type": "stream",
     "text": [
      "42\n"
     ]
    }
   ],
   "source": [
    "cout << nice.doSomething() << endl;"
   ]
  },
  {
   "cell_type": "markdown",
   "metadata": {},
   "source": [
    "### Slicing Problem"
   ]
  },
  {
   "cell_type": "markdown",
   "metadata": {},
   "source": [
    "```cpp\n",
    "pet = dog; // will only copy the values that pet has, not the dog-specific ones!\n",
    "```\n",
    "\n",
    "To fix this, use pointers so you get runtime polymorphism:\n",
    "\n",
    "```cpp\n",
    "Pet *aPetObject;\n",
    "Dog *aDogObject;\n",
    "dog = new Dog();\n",
    "aPetObject = aDogObject; // it copies the reference, so now aPetObject points to the dog object\n",
    "```"
   ]
  },
  {
   "cell_type": "markdown",
   "metadata": {},
   "source": [
    "## Object-Oriented Design (OOD & OOP)"
   ]
  },
  {
   "cell_type": "markdown",
   "metadata": {},
   "source": [
    "3 basic principles:\n",
    "- **encapsulation**: combining data & its operations in a single unit\n",
    "- **inheritance**: creating new objects from existing ones\n",
    "- **polymorphism**: using the same expression to denote different operations"
   ]
  },
  {
   "cell_type": "markdown",
   "metadata": {},
   "source": [
    "# Templates <a name=\"templates\"></a>"
   ]
  },
  {
   "cell_type": "markdown",
   "metadata": {},
   "source": [
    "**Templates** let you write a single code segment for a set of related functions/classes.\n",
    "\n",
    "```cpp\n",
    "// function template\n",
    "template <class Type>\n",
    "Type doSomething(Type someVar) { ... }\n",
    "\n",
    "// class template aka parameterized types\n",
    "template <class Type>\n",
    "class className { ... }\n",
    "```"
   ]
  },
  {
   "cell_type": "code",
   "execution_count": 2,
   "metadata": {},
   "outputs": [],
   "source": [
    "template <class Type>\n",
    "Type addThings(Type a, Type b) {\n",
    "    return a + b;\n",
    "}"
   ]
  },
  {
   "cell_type": "code",
   "execution_count": 3,
   "metadata": {},
   "outputs": [],
   "source": [
    "int result = addThings<int>(5, 10);"
   ]
  },
  {
   "cell_type": "code",
   "execution_count": 5,
   "metadata": {},
   "outputs": [
    {
     "name": "stdout",
     "output_type": "stream",
     "text": [
      "15\n"
     ]
    }
   ],
   "source": [
    "cout << result << endl;"
   ]
  },
  {
   "cell_type": "code",
   "execution_count": 7,
   "metadata": {},
   "outputs": [],
   "source": [
    "string sResult = addThings<string>(\"hello \", \"world\");"
   ]
  },
  {
   "cell_type": "code",
   "execution_count": 8,
   "metadata": {},
   "outputs": [
    {
     "name": "stdout",
     "output_type": "stream",
     "text": [
      "hello world\n"
     ]
    }
   ],
   "source": [
    "cout << sResult << endl;"
   ]
  },
  {
   "cell_type": "code",
   "execution_count": null,
   "metadata": {},
   "outputs": [],
   "source": []
  }
 ],
 "metadata": {
  "kernelspec": {
   "display_name": "C++14",
   "language": "C++14",
   "name": "xcpp14"
  },
  "language_info": {
   "codemirror_mode": "text/x-c++src",
   "file_extension": ".cpp",
   "mimetype": "text/x-c++src",
   "name": "c++",
   "version": "-std=c++14"
  }
 },
 "nbformat": 4,
 "nbformat_minor": 4
}
